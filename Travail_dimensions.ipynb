{
 "cells": [
  {
   "cell_type": "code",
   "execution_count": 6,
   "metadata": {},
   "outputs": [],
   "source": [
    "import torch\n",
    "import numpy as np\n"
   ]
  },
  {
   "cell_type": "code",
   "execution_count": 5,
   "metadata": {},
   "outputs": [],
   "source": [
    "import collections\n",
    "\n",
    "import tensorflow as tf\n",
    "import tensorflow_probability as tfp\n",
    "tfd = tfp.distributions"
   ]
  },
  {
   "cell_type": "code",
   "execution_count": 7,
   "metadata": {},
   "outputs": [
    {
     "data": {
      "text/plain": [
       "<tf.Tensor: shape=(3, 2), dtype=float32, numpy=\n",
       "array([[  1.6004746,  36.215477 ],\n",
       "       [ 11.949095 , -16.108114 ],\n",
       "       [ -2.8199153,  12.627222 ]], dtype=float32)>"
      ]
     },
     "execution_count": 7,
     "metadata": {},
     "output_type": "execute_result"
    }
   ],
   "source": [
    "tfd = tfp.distributions\n",
    "\n",
    "# Define a single scalar Gumbel distribution.\n",
    "dist = tfd.Gumbel(loc=0., scale=3.)\n",
    "\n",
    "# Evaluate the cdf at 1, returning a scalar.\n",
    "dist.cdf(1.)\n",
    "\n",
    "# Define a batch of two scalar valued Gumbels.\n",
    "# The first has mean 1 and scale 11, the second 2 and 22.\n",
    "dist = tfd.Gumbel(loc=[1, 2.], scale=[11, 22.])\n",
    "\n",
    "# Evaluate the pdf of the first distribution on 0, and the second on 1.5,\n",
    "# returning a length two tensor.\n",
    "dist.prob([0, 1.5])\n",
    "\n",
    "# Get 3 samples, returning a 3 x 2 tensor.\n",
    "dist.sample([3])"
   ]
  },
  {
   "cell_type": "code",
   "execution_count": 9,
   "metadata": {},
   "outputs": [
    {
     "name": "stdout",
     "output_type": "stream",
     "text": [
      "(35, 789)\n"
     ]
    }
   ],
   "source": [
    "f = tfd.Gumbel(loc=0., scale=1.)\n",
    "\n",
    "A = f.sample([35,789])\n",
    "\n",
    "print(np.shape(A))"
   ]
  },
  {
   "cell_type": "code",
   "execution_count": null,
   "metadata": {},
   "outputs": [],
   "source": []
  }
 ],
 "metadata": {
  "interpreter": {
   "hash": "5c732919cf096cd9212b53a74a04af4a0352aa595c1e83c234e2d76c13b5eef6"
  },
  "kernelspec": {
   "display_name": "Python 3.9.7 ('base')",
   "language": "python",
   "name": "python3"
  },
  "language_info": {
   "codemirror_mode": {
    "name": "ipython",
    "version": 3
   },
   "file_extension": ".py",
   "mimetype": "text/x-python",
   "name": "python",
   "nbconvert_exporter": "python",
   "pygments_lexer": "ipython3",
   "version": "3.7.6"
  },
  "orig_nbformat": 4
 },
 "nbformat": 4,
 "nbformat_minor": 2
}
