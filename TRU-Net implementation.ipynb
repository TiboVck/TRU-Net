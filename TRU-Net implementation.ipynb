{
 "cells": [
  {
   "cell_type": "code",
   "execution_count": 3,
   "metadata": {},
   "outputs": [],
   "source": [
    "import keras\n",
    "import tensorflow as tf\n",
    "import keras.layers as layers\n",
    "import keras.activations as activations\n",
    "import numpy as np\n",
    "\n",
    "import pylab as pl\n",
    "import matplotlib.pyplot as plt\n",
    "import scipy as sp\n",
    "import scipy.signal \n",
    "from scipy.io import wavfile\n",
    "\n",
    "import sounddevice as sd"
   ]
  },
  {
   "cell_type": "markdown",
   "metadata": {},
   "source": [
    "# 1. Mise en place des données tests"
   ]
  },
  {
   "cell_type": "code",
   "execution_count": 4,
   "metadata": {},
   "outputs": [
    {
     "ename": "FileNotFoundError",
     "evalue": "[Errno 2] No such file or directory: 'Sls.wav'",
     "output_type": "error",
     "traceback": [
      "\u001b[0;31m---------------------------------------------------------------------------\u001b[0m",
      "\u001b[0;31mFileNotFoundError\u001b[0m                         Traceback (most recent call last)",
      "\u001b[0;32m<ipython-input-4-5b640ee118a9>\u001b[0m in \u001b[0;36m<module>\u001b[0;34m\u001b[0m\n\u001b[0;32m----> 1\u001b[0;31m \u001b[0mrate\u001b[0m\u001b[0;34m,\u001b[0m \u001b[0msls\u001b[0m \u001b[0;34m=\u001b[0m \u001b[0mwavfile\u001b[0m\u001b[0;34m.\u001b[0m\u001b[0mread\u001b[0m\u001b[0;34m(\u001b[0m\u001b[0;34m'Sls.wav'\u001b[0m\u001b[0;34m)\u001b[0m\u001b[0;34m\u001b[0m\u001b[0;34m\u001b[0m\u001b[0m\n\u001b[0m\u001b[1;32m      2\u001b[0m \u001b[0msls\u001b[0m \u001b[0;34m=\u001b[0m \u001b[0msls\u001b[0m\u001b[0;34m/\u001b[0m\u001b[0mnp\u001b[0m\u001b[0;34m.\u001b[0m\u001b[0mmax\u001b[0m\u001b[0;34m(\u001b[0m\u001b[0msls\u001b[0m\u001b[0;34m)\u001b[0m\u001b[0;34m\u001b[0m\u001b[0;34m\u001b[0m\u001b[0m\n\u001b[1;32m      3\u001b[0m \u001b[0;34m\u001b[0m\u001b[0m\n\u001b[1;32m      4\u001b[0m \u001b[0mN\u001b[0m \u001b[0;34m=\u001b[0m \u001b[0mlen\u001b[0m\u001b[0;34m(\u001b[0m\u001b[0msls\u001b[0m\u001b[0;34m)\u001b[0m\u001b[0;34m\u001b[0m\u001b[0;34m\u001b[0m\u001b[0m\n\u001b[1;32m      5\u001b[0m \u001b[0mprint\u001b[0m\u001b[0;34m(\u001b[0m\u001b[0mN\u001b[0m\u001b[0;34m/\u001b[0m\u001b[0mrate\u001b[0m\u001b[0;34m)\u001b[0m\u001b[0;34m\u001b[0m\u001b[0;34m\u001b[0m\u001b[0m\n",
      "\u001b[0;32m~/opt/anaconda3/lib/python3.7/site-packages/scipy/io/wavfile.py\u001b[0m in \u001b[0;36mread\u001b[0;34m(filename, mmap)\u001b[0m\n\u001b[1;32m    262\u001b[0m         \u001b[0mmmap\u001b[0m \u001b[0;34m=\u001b[0m \u001b[0;32mFalse\u001b[0m\u001b[0;34m\u001b[0m\u001b[0;34m\u001b[0m\u001b[0m\n\u001b[1;32m    263\u001b[0m     \u001b[0;32melse\u001b[0m\u001b[0;34m:\u001b[0m\u001b[0;34m\u001b[0m\u001b[0;34m\u001b[0m\u001b[0m\n\u001b[0;32m--> 264\u001b[0;31m         \u001b[0mfid\u001b[0m \u001b[0;34m=\u001b[0m \u001b[0mopen\u001b[0m\u001b[0;34m(\u001b[0m\u001b[0mfilename\u001b[0m\u001b[0;34m,\u001b[0m \u001b[0;34m'rb'\u001b[0m\u001b[0;34m)\u001b[0m\u001b[0;34m\u001b[0m\u001b[0;34m\u001b[0m\u001b[0m\n\u001b[0m\u001b[1;32m    265\u001b[0m \u001b[0;34m\u001b[0m\u001b[0m\n\u001b[1;32m    266\u001b[0m     \u001b[0;32mtry\u001b[0m\u001b[0;34m:\u001b[0m\u001b[0;34m\u001b[0m\u001b[0;34m\u001b[0m\u001b[0m\n",
      "\u001b[0;31mFileNotFoundError\u001b[0m: [Errno 2] No such file or directory: 'Sls.wav'"
     ]
    }
   ],
   "source": [
    "rate, sls = wavfile.read('Sls.wav')\n",
    "sls = sls/np.max(sls)\n",
    "\n",
    "N = len(sls)\n",
    "print(N/rate)\n",
    "\n",
    "time = np.arange(N)/rate\n",
    "\n",
    "plt.plot(sls)\n",
    "plt.title('Signal')\n",
    "plt.show()\n",
    "\n",
    "#sd.play(sls/np.max(sls),rate)"
   ]
  },
  {
   "cell_type": "code",
   "execution_count": null,
   "metadata": {},
   "outputs": [
    {
     "name": "stderr",
     "output_type": "stream",
     "text": [
      "ALSA lib pcm.c:8306:(snd_pcm_recover) underrun occurred\n",
      "ALSA lib pcm.c:8306:(snd_pcm_recover) underrun occurred\n",
      "ALSA lib pcm.c:8306:(snd_pcm_recover) underrun occurred\n",
      "ALSA lib pcm.c:8306:(snd_pcm_recover) underrun occurred\n"
     ]
    },
    {
     "data": {
      "image/png": "[encoded data removed]",
      "text/plain": [
       "<Figure size 432x288 with 1 Axes>"
      ]
     },
     "metadata": {
      "needs_background": "light"
     },
     "output_type": "display_data"
    }
   ],
   "source": [
    "Ns = N\n",
    "sigma_carre = 1.2\n",
    "\n",
    "#compute gaussian signal\n",
    "Samples = np.power(1.2,0.5)*np.random.randn(Ns)\n",
    "abs = np.arange(Ns)\n",
    "pl.plot(abs,Samples)\n",
    "pl.show()"
   ]
  },
  {
   "cell_type": "code",
   "execution_count": null,
   "metadata": {},
   "outputs": [
    {
     "name": "stderr",
     "output_type": "stream",
     "text": [
      "ALSA lib pcm.c:8306:(snd_pcm_recover) underrun occurred\n",
      "ALSA lib pcm.c:8306:(snd_pcm_recover) underrun occurred\n",
      "ALSA lib pcm.c:8306:(snd_pcm_recover) underrun occurred\n",
      "ALSA lib pcm.c:8306:(snd_pcm_recover) underrun occurred\n",
      "ALSA lib pcm.c:8306:(snd_pcm_recover) underrun occurred\n"
     ]
    },
    {
     "data": {
      "image/png": "[encoded data removed]",
      "text/plain": [
       "<Figure size 432x288 with 1 Axes>"
      ]
     },
     "metadata": {
      "needs_background": "light"
     },
     "output_type": "display_data"
    }
   ],
   "source": [
    "slsn = sls + Samples/90\n",
    "\n",
    "pl.plot(slsn)\n",
    "\n",
    "pl.show()\n",
    "\n",
    "#sd.play(slsn[3200000:3200000+3200000]/np.max(sls),rate)"
   ]
  },
  {
   "cell_type": "code",
   "execution_count": null,
   "metadata": {},
   "outputs": [],
   "source": [
    "def make_extrait(x,fs):\n",
    "    data = np.zeros((1,fs*2))\n",
    "    i=0\n",
    "    data = [x[i:i+fs*2]]\n",
    "    i+=fs\n",
    "    while(i+fs*2<len(x)):\n",
    "\n",
    "        data = np.concatenate((data,[x[i:i+fs*2]]),0)\n",
    "        i += fs\n",
    "    \n",
    "    return data\n",
    "\n",
    "\n",
    "\n",
    "\n"
   ]
  },
  {
   "cell_type": "code",
   "execution_count": null,
   "metadata": {},
   "outputs": [
    {
     "name": "stdout",
     "output_type": "stream",
     "text": [
      "(7620480,)\n",
      "(171, 88200)\n",
      "(171, 88200)\n",
      "(117306, 257)\n",
      "(117306, 257)\n"
     ]
    }
   ],
   "source": [
    "print(np.shape(sls))\n",
    "\n",
    "ex_sls = make_extrait(sls,rate)\n",
    "ex_slsn = make_extrait(slsn,rate)\n",
    "\n",
    "print(np.shape(ex_sls))\n",
    "print(np.shape(ex_slsn)) \n",
    "\n",
    "stft_c = tf.signal.stft(ex_sls[0],frame_length=512,frame_step=128,window_fn=tf.signal.hann_window)\n",
    "\n",
    "stft_n = tf.signal.stft(ex_slsn[0],frame_length=512,frame_step=128,window_fn=tf.signal.hann_window)\n",
    "\n",
    "for i in range(1,np.shape(ex_sls)[0]):\n",
    "    a = tf.signal.stft(ex_sls[i],frame_length=512,frame_step=128,window_fn=tf.signal.hann_window)\n",
    "    b = tf.signal.stft(ex_slsn[i],frame_length=512,frame_step=128,window_fn=tf.signal.hann_window)\n",
    "    \n",
    "\n",
    "    stft_c = np.concatenate((stft_c,a),axis=0)\n",
    "    stft_n = np.concatenate((stft_n,b),axis=0)\n",
    "\n",
    "\n",
    "print(np.shape(stft_c))\n",
    "print(np.shape(stft_n)) \n",
    "\n",
    "\n",
    "\n",
    "\n"
   ]
  },
  {
   "cell_type": "code",
   "execution_count": null,
   "metadata": {},
   "outputs": [
    {
     "name": "stdout",
     "output_type": "stream",
     "text": [
      "(171, 88200)\n",
      "(686, 257)\n"
     ]
    },
    {
     "name": "stderr",
     "output_type": "stream",
     "text": [
      "2022-04-21 10:07:06.143951: W tensorflow/stream_executor/platform/default/dso_loader.cc:64] Could not load dynamic library 'libcuda.so.1'; dlerror: libcuda.so.1: cannot open shared object file: No such file or directory\n",
      "2022-04-21 10:07:06.143993: W tensorflow/stream_executor/cuda/cuda_driver.cc:269] failed call to cuInit: UNKNOWN ERROR (303)\n",
      "2022-04-21 10:07:06.144027: I tensorflow/stream_executor/cuda/cuda_diagnostics.cc:156] kernel driver does not appear to be running on this host (sparekh-Precision-T3610): /proc/driver/nvidia/version does not exist\n"
     ]
    }
   ],
   "source": [
    "print(np.shape(ex_sls))\n",
    "\n",
    "A = tf.signal.stft(ex_sls[0],frame_length=512,frame_step=128,window_fn=tf.signal.hann_window)\n",
    "\n",
    "print(np.shape(A))\n"
   ]
  },
  {
   "cell_type": "markdown",
   "metadata": {},
   "source": [
    "Nous avons nos deux signaux de base, l'un bruité slsn, et l'autre propre sls."
   ]
  },
  {
   "cell_type": "markdown",
   "metadata": {},
   "source": [
    "# 2. Écriture des loss function"
   ]
  },
  {
   "cell_type": "code",
   "execution_count": null,
   "metadata": {},
   "outputs": [
    {
     "data": {
      "text/plain": [
       "7"
      ]
     },
     "execution_count": 8,
     "metadata": {},
     "output_type": "execute_result"
    }
   ],
   "source": [
    "a = tf.constant([1,2])\n",
    "b = tf.constant([3,2])\n",
    "\n",
    "tf.tensordot(a,b,1).numpy()"
   ]
  },
  {
   "cell_type": "code",
   "execution_count": null,
   "metadata": {},
   "outputs": [],
   "source": [
    "def L_wav(y_true,y_pred):\n",
    "\n",
    "    return -tf.divide(tf.tensordot(y_pred,y_true,1),tf.multiply(tf.norm(y_pred),tf.norm(y_true)))\n",
    "\n",
    "def L_spec(y_true,y_pred):\n",
    "\n",
    "    return tf.pow(tf.norm(tf.pow(tf.norm(y_true),0.3)-tf.pow(tf.norm(y_pred),0.3)),2)\n"
   ]
  },
  {
   "cell_type": "markdown",
   "metadata": {},
   "source": [
    "# 3. Depthwise-separable convolution"
   ]
  },
  {
   "cell_type": "code",
   "execution_count": 32,
   "metadata": {},
   "outputs": [],
   "source": [
    "class DepthwiseSeparableConv1d(tf.keras.Model):\n",
    "    def __init__(self, in_channels, out_channels, kernel_size, stride):\n",
    "\n",
    "\n",
    "        super().__init__()\n",
    "\n",
    "        shape = ([None, in_channels])\n",
    " \n",
    "        self.conv1d_ptwise = layers.Conv1D(in_channels,1)\n",
    "\n",
    "        self.norm1 = tf.keras.layers.BatchNormalization()\n",
    "        self.relu1 = layers.Activation(activations.relu)\n",
    "\n",
    "        self.conv1d_dpwise = layers.DepthwiseConv1D(kernel_size,strides=stride,padding = 'same',data_format='channels_last' , depth_multiplier=int(out_channels//in_channels),activation=activations.relu)\n",
    "\n",
    "        self.norm2 = tf.keras.layers.BatchNormalization()\n",
    "        self.relu2 = layers.Activation(activations.relu)\n",
    "\n",
    "\n",
    "    def call (self, x):\n",
    "        #print('dp',np.shape(x))\n",
    "        x = self.conv1d_ptwise(x)\n",
    "\n",
    "        x = self.norm1(x)\n",
    "        x = self.relu1(x)\n",
    "\n",
    "        #print('dp2',np.shape(x))\n",
    "\n",
    "        y = self.conv1d_dpwise(x)\n",
    "       # print('dp3',np.shape(y))\n",
    "\n",
    "        y = self.norm2(y)\n",
    "        y = self.relu2(y)\n",
    "\n",
    "        return y\n"
   ]
  },
  {
   "cell_type": "code",
   "execution_count": 33,
   "metadata": {},
   "outputs": [],
   "source": [
    "class FirstBlock_DSConv1d(tf.keras.Model):\n",
    "    def __init__(self, in_channels, out_channels, kernel_size, stride):\n",
    "\n",
    "\n",
    "        super().__init__()\n",
    "\n",
    "        shape = ([None, in_channels])\n",
    " \n",
    "        \n",
    "\n",
    "        self.conv1d = layers.Conv1D(out_channels,kernel_size,strides=stride,padding = 'same',)\n",
    "\n",
    "        self.norm = tf.keras.layers.BatchNormalization()\n",
    "        self.relu = layers.Activation(activations.relu)\n",
    "\n",
    "\n",
    "    def call (self, x):\n",
    "        #print('dp',np.shape(x))\n",
    "        \n",
    "        y = self.conv1d(x)\n",
    "        #print('dp3',np.shape(y))\n",
    "\n",
    "        y = self.norm(y)\n",
    "        y = self.relu(y)\n",
    "\n",
    "        return y"
   ]
  },
  {
   "cell_type": "code",
   "execution_count": null,
   "metadata": {},
   "outputs": [
    {
     "name": "stdout",
     "output_type": "stream",
     "text": [
      "(686, 256, 2)\n"
     ]
    }
   ],
   "source": [
    "model = DepthwiseSeparableConv1d(2,2,5,1)\n",
    "\n",
    "data = tf.constant(np.random.rand(686,256,2))\n",
    "y = model(data)\n",
    "print(np.shape(y))\n",
    "#model.compile(loss=L_spec,optimizer='adam')\n",
    "#model.fit(x,y, verbose=2, epochs=1000,batch_size=1000,shuffle=True)"
   ]
  },
  {
   "cell_type": "code",
   "execution_count": null,
   "metadata": {},
   "outputs": [
    {
     "name": "stdout",
     "output_type": "stream",
     "text": [
      "(19846, 257, 1)\n",
      "(257, 19846)\n",
      "(19846, 257, 1)\n",
      "(19846, 257, 1)\n",
      "(257, 19846)\n"
     ]
    },
    {
     "name": "stderr",
     "output_type": "stream",
     "text": [
      "/Users/thibautvacek/opt/anaconda3/lib/python3.7/site-packages/tensorflow/python/ops/gen_math_ops.py:6577: ComplexWarning: Casting complex values to real discards the imaginary part\n",
      "  _ctx, \"Mul\", name, x, y)\n"
     ]
    }
   ],
   "source": [
    "#STFT des signaux et phase\n",
    "t, f, a = scipy.signal.stft(slsn,rate, 'hann',512,128)\n",
    "t, f, b = scipy.signal.stft(sls,rate, 'hann',512,128)\n",
    "phase = np.angle(b)\n",
    "\n",
    "#mise en forme pour rentrer dans le module\n",
    "#a est bruité\n",
    "at = tf.math.abs(tf.constant([a]))\n",
    "at = tf.transpose(at, perm=[2,1,0])\n",
    "\n",
    "#b est clean\n",
    "bt = tf.math.abs(tf.constant([b]))\n",
    "bt = tf.transpose(bt, perm=[2,1,0])\n",
    "\n",
    "print(np.shape(at))\n",
    "print(np.shape(phase))\n",
    "\n",
    "m = model(at)\n",
    "ad = tf.transpose(m, perm=[2,1,0])\n",
    "ar = ad[0] * np.exp(phase*1j)\n",
    "print(np.shape(ar))\n",
    "\n"
   ]
  },
  {
   "cell_type": "code",
   "execution_count": null,
   "metadata": {},
   "outputs": [
    {
     "ename": "NameError",
     "evalue": "name 'ar' is not defined",
     "output_type": "error",
     "traceback": [
      "\u001b[0;31m---------------------------------------------------------------------------\u001b[0m",
      "\u001b[0;31mNameError\u001b[0m                                 Traceback (most recent call last)",
      "\u001b[0;32m/tmp/ipykernel_3740/126448376.py\u001b[0m in \u001b[0;36m<module>\u001b[0;34m\u001b[0m\n\u001b[0;32m----> 1\u001b[0;31m \u001b[0mxrec\u001b[0m \u001b[0;34m=\u001b[0m \u001b[0msp\u001b[0m\u001b[0;34m.\u001b[0m\u001b[0msignal\u001b[0m\u001b[0;34m.\u001b[0m\u001b[0mistft\u001b[0m\u001b[0;34m(\u001b[0m\u001b[0mar\u001b[0m\u001b[0;34m,\u001b[0m \u001b[0mrate\u001b[0m\u001b[0;34m,\u001b[0m \u001b[0;34m'hann'\u001b[0m\u001b[0;34m,\u001b[0m\u001b[0;36m512\u001b[0m\u001b[0;34m,\u001b[0m\u001b[0;36m128\u001b[0m\u001b[0;34m)\u001b[0m\u001b[0;34m\u001b[0m\u001b[0;34m\u001b[0m\u001b[0m\n\u001b[0m\u001b[1;32m      2\u001b[0m \u001b[0;34m\u001b[0m\u001b[0m\n\u001b[1;32m      3\u001b[0m \u001b[0mrec\u001b[0m \u001b[0;34m=\u001b[0m \u001b[0mxrec\u001b[0m\u001b[0;34m[\u001b[0m\u001b[0;36m1\u001b[0m\u001b[0;34m]\u001b[0m\u001b[0;34m\u001b[0m\u001b[0;34m\u001b[0m\u001b[0m\n\u001b[1;32m      4\u001b[0m \u001b[0mpl\u001b[0m\u001b[0;34m.\u001b[0m\u001b[0mplot\u001b[0m\u001b[0;34m(\u001b[0m\u001b[0mrec\u001b[0m\u001b[0;34m)\u001b[0m\u001b[0;34m\u001b[0m\u001b[0;34m\u001b[0m\u001b[0m\n\u001b[1;32m      5\u001b[0m \u001b[0mpl\u001b[0m\u001b[0;34m.\u001b[0m\u001b[0mshow\u001b[0m\u001b[0;34m(\u001b[0m\u001b[0;34m)\u001b[0m\u001b[0;34m\u001b[0m\u001b[0;34m\u001b[0m\u001b[0m\n",
      "\u001b[0;31mNameError\u001b[0m: name 'ar' is not defined"
     ]
    }
   ],
   "source": [
    "xrec = sp.signal.istft(ar, rate, 'hann',512,128)\n",
    "\n",
    "rec = xrec[1]\n",
    "pl.plot(rec)\n",
    "pl.show()\n",
    "#sd.play(rec,rate)"
   ]
  },
  {
   "cell_type": "markdown",
   "metadata": {},
   "source": [
    "# 3. Modèle Encoder qu'on fait évoluer"
   ]
  },
  {
   "cell_type": "code",
   "execution_count": null,
   "metadata": {},
   "outputs": [],
   "source": [
    "class Encoder_TRU_Net(tf.keras.Model):\n",
    "\n",
    "    def __init__(self):\n",
    "\n",
    "\n",
    "        super().__init__()\n",
    "\n",
    "        \n",
    "\n",
    "\n",
    "\n",
    "        self.cnn_1d_block1 = FirstBlock_DSConv1d(1,64,5,2)\n",
    "        self.cnn_1d_block2 = DepthwiseSeparableConv1d(64,128,3,1)\n",
    "        self.cnn_1d_block3 = DepthwiseSeparableConv1d(128,128,5,2)\n",
    "        self.cnn_1d_block4 = DepthwiseSeparableConv1d(128,128,3,1)\n",
    "        self.cnn_1d_block5 = DepthwiseSeparableConv1d(128,128,5,2)\n",
    "        self.cnn_1d_block6 = DepthwiseSeparableConv1d(128,128,3,2)\n",
    "        \n",
    "        self.faux_layer = layers.Conv1D(257,17)\n",
    "\n",
    "        self.norm = tf.keras.layers.BatchNormalization()\n",
    "\n",
    "\n",
    "    def call (self, x):\n",
    "\n",
    "        p = self.norm(x)\n",
    "        \n",
    "        p = tf.signal.stft(p,frame_length=512,frame_step=128,window_fn=tf.signal.hann_window)\n",
    "        sh = np.shape(p)\n",
    "        print(np.shape(p))\n",
    "        #inp = tf.slice(p,[0,0,0],[sh[0],sh[1],sh[2]-1])\n",
    "        inp = p\n",
    "        phase = tf.math.angle(inp)\n",
    "\n",
    "      \n",
    "        \n",
    "        inp = tf.expand_dims(tf.abs(inp),axis=3)\n",
    "        #x = tf.abs(x[:,:-1])\n",
    "        #À REGARDER DE PLUS PRES LE STFT\n",
    "        #x = tf.transpose(x, perm=[0,2,3,1])\n",
    "        print(np.shape(inp))\n",
    "        out = tf.constant([])\n",
    "\n",
    "        for i in range(len(inp)):\n",
    "          \n",
    "            x = inp[i]\n",
    "            x = self.cnn_1d_block1(x)\n",
    "           # print(np.shape(x))\n",
    "            x = self.cnn_1d_block2(x)\n",
    "            #print(np.shape(x))\n",
    "            x = self.cnn_1d_block3(x)\n",
    "            #print(np.shape(x))\n",
    "            x = self.cnn_1d_block4(x)\n",
    "            #print(np.shape(x))\n",
    "            x = self.cnn_1d_block5(x)\n",
    "            #print(np.shape(x))\n",
    "            x = self.cnn_1d_block6(x)\n",
    "            print(np.shape(x))\n",
    "            x = self.faux_layer(x)\n",
    "            print(np.shape(x))\n",
    "            x = tf.transpose(x,[1,0,2])\n",
    "            \n",
    "            if i==0:\n",
    "                out=x\n",
    "            else : \n",
    "                out = tf.concat([out,x],0)\n",
    "\n",
    "            \n",
    "        print(np.shape(out))\n",
    "        m = tf.cast(out, tf.complex128)\n",
    "        t = tf.cast(phase, tf.complex128)\n",
    "        p = tf.math.exp(tf.multiply(tf.constant(1j),t))\n",
    "        y = tf.multiply(m,p)\n",
    "        print(np.shape(y))\n",
    "        y = tf.signal.inverse_stft(y,512,128,window_fn=tf.signal.hann_window)\n",
    "        return y"
   ]
  },
  {
   "cell_type": "markdown",
   "metadata": {},
   "source": [
    "## Tentative avec stft dans encoder"
   ]
  },
  {
   "cell_type": "code",
   "execution_count": null,
   "metadata": {},
   "outputs": [],
   "source": [
    "class Encoder_TRU_Net(tf.keras.Model):\n",
    "\n",
    "    def __init__(self):\n",
    "\n",
    "\n",
    "        super().__init__()\n",
    "\n",
    "        \n",
    "\n",
    "\n",
    "\n",
    "        self.cnn_1d_block1 = FirstBlock_DSConv1d(1,64,5,2)\n",
    "        self.cnn_1d_block2 = DepthwiseSeparableConv1d(64,128,3,1)\n",
    "        self.cnn_1d_block3 = DepthwiseSeparableConv1d(128,128,5,2)\n",
    "        self.cnn_1d_block4 = DepthwiseSeparableConv1d(128,128,3,1)\n",
    "        self.cnn_1d_block5 = DepthwiseSeparableConv1d(128,128,5,2)\n",
    "        self.cnn_1d_block6 = DepthwiseSeparableConv1d(128,128,3,2)\n",
    "        \n",
    "        self.faux_layer = layers.Conv1D(257,17)\n",
    "\n",
    "        self.norm = tf.keras.layers.BatchNormalization()\n",
    "\n",
    "\n",
    "    def call (self, x):\n",
    "\n",
    "        p = self.norm(x)\n",
    "        \n",
    "        p = tf.signal.stft(p,frame_length=512,frame_step=128,window_fn=tf.signal.hann_window)\n",
    "        sh = np.shape(p)\n",
    "        print(np.shape(p))\n",
    "        #inp = tf.slice(p,[0,0,0],[sh[0],sh[1],sh[2]-1])\n",
    "        inp = p\n",
    "        phase = tf.math.angle(inp)\n",
    "\n",
    "      \n",
    "        \n",
    "        inp = tf.expand_dims(tf.abs(inp),axis=-1)\n",
    "        #x = tf.abs(x[:,:-1])\n",
    "        #À REGARDER DE PLUS PRES LE STFT\n",
    "        #x = tf.transpose(x, perm=[0,2,3,1])\n",
    "        print(np.shape(inp))\n",
    "        x = inp\n",
    "\n",
    "        \n",
    "        x = self.cnn_1d_block1(x)\n",
    "        # print(np.shape(x))\n",
    "        x = self.cnn_1d_block2(x)\n",
    "        #print(np.shape(x))\n",
    "        x = self.cnn_1d_block3(x)\n",
    "        #print(np.shape(x))\n",
    "        x = self.cnn_1d_block4(x)\n",
    "        #print(np.shape(x))\n",
    "        x = self.cnn_1d_block5(x)\n",
    "        #print(np.shape(x))\n",
    "        x = self.cnn_1d_block6(x)\n",
    "        print(np.shape(x))\n",
    "        x = self.faux_layer(x)\n",
    "        print(np.shape(x))\n",
    "        x = tf.transpose(x,[1,0,2])\n",
    "        \n",
    "        out = x[0]\n",
    "\n",
    "            \n",
    "        print(np.shape(out))\n",
    "        m = tf.cast(out, tf.complex128)\n",
    "        t = tf.cast(phase, tf.complex128)\n",
    "        p = tf.math.exp(tf.multiply(tf.constant(1j),t))\n",
    "        y = tf.multiply(m,p)\n",
    "        print(np.shape(y))\n",
    "        y = tf.signal.inverse_stft(y,512,128,window_fn=tf.signal.hann_window)\n",
    "        return y"
   ]
  },
  {
   "cell_type": "code",
   "execution_count": null,
   "metadata": {},
   "outputs": [
    {
     "name": "stdout",
     "output_type": "stream",
     "text": [
      "(171, 88200)\n",
      "(686, 257)\n",
      "(686, 257, 1)\n",
      "(686, 17, 128)\n",
      "(686, 1, 257)\n",
      "(686, 257)\n",
      "(686, 257)\n",
      "(88192,)\n"
     ]
    }
   ],
   "source": [
    "encoder = Encoder_TRU_Net()\n",
    "print(np.shape(ex_slsn))\n",
    "y=encoder(ex_slsn[0])\n",
    "print(np.shape(y))"
   ]
  },
  {
   "cell_type": "code",
   "execution_count": null,
   "metadata": {},
   "outputs": [
    {
     "name": "stdout",
     "output_type": "stream",
     "text": [
      "Epoch 1/100\n",
      "(None, 686, 257)\n",
      "(None, 686, 257, 1)\n"
     ]
    },
    {
     "ename": "ValueError",
     "evalue": "in user code:\n\n    File \"/home/mbuisson/anaconda3/lib/python3.9/site-packages/keras/engine/training.py\", line 1021, in train_function  *\n        return step_function(self, iterator)\n    File \"/home/mbuisson/anaconda3/lib/python3.9/site-packages/keras/engine/training.py\", line 1010, in step_function  **\n        outputs = model.distribute_strategy.run(run_step, args=(data,))\n    File \"/home/mbuisson/anaconda3/lib/python3.9/site-packages/keras/engine/training.py\", line 1000, in run_step  **\n        outputs = model.train_step(data)\n    File \"/home/mbuisson/anaconda3/lib/python3.9/site-packages/keras/engine/training.py\", line 859, in train_step\n        y_pred = self(x, training=True)\n    File \"/home/mbuisson/anaconda3/lib/python3.9/site-packages/keras/utils/traceback_utils.py\", line 67, in error_handler\n        raise e.with_traceback(filtered_tb) from None\n\n    ValueError: Exception encountered when calling layer \"encoder_tru__net_44\" (type Encoder_TRU_Net).\n    \n    in user code:\n    \n        File \"/tmp/ipykernel_3740/118062852.py\", line 47, in call  *\n            x = self.cnn_1d_block2(x)\n        File \"/home/mbuisson/anaconda3/lib/python3.9/site-packages/keras/utils/traceback_utils.py\", line 67, in error_handler  **\n            raise e.with_traceback(filtered_tb) from None\n    \n        ValueError: Exception encountered when calling layer \"depthwise_separable_conv1d_220\" (type DepthwiseSeparableConv1d).\n        \n        in user code:\n        \n            File \"/tmp/ipykernel_3740/2421589345.py\", line 29, in call  *\n                y = self.conv1d_dpwise(x)\n            File \"/home/mbuisson/anaconda3/lib/python3.9/site-packages/keras/utils/traceback_utils.py\", line 67, in error_handler  **\n                raise e.with_traceback(filtered_tb) from None\n            File \"/home/mbuisson/anaconda3/lib/python3.9/site-packages/keras/layers/convolutional.py\", line 2406, in build\n                raise ValueError('Inputs to `DepthwiseConv` should have '\n        \n            ValueError: Inputs to `DepthwiseConv` should have rank 3. Received input_shape=(None, 686, 129, 64).\n        \n        \n        Call arguments received:\n          • x=tf.Tensor(shape=(None, 686, 129, 64), dtype=float32)\n    \n    \n    Call arguments received:\n      • x=tf.Tensor(shape=(None, 88200), dtype=float32)\n",
     "output_type": "error",
     "traceback": [
      "\u001b[0;31m---------------------------------------------------------------------------\u001b[0m",
      "\u001b[0;31mValueError\u001b[0m                                Traceback (most recent call last)",
      "\u001b[0;32m/tmp/ipykernel_3740/3155156786.py\u001b[0m in \u001b[0;36m<module>\u001b[0;34m\u001b[0m\n\u001b[1;32m      1\u001b[0m \u001b[0mencoder\u001b[0m \u001b[0;34m=\u001b[0m \u001b[0mEncoder_TRU_Net\u001b[0m\u001b[0;34m(\u001b[0m\u001b[0;34m)\u001b[0m\u001b[0;34m\u001b[0m\u001b[0;34m\u001b[0m\u001b[0m\n\u001b[1;32m      2\u001b[0m \u001b[0mencoder\u001b[0m\u001b[0;34m.\u001b[0m\u001b[0mcompile\u001b[0m\u001b[0;34m(\u001b[0m\u001b[0mloss\u001b[0m\u001b[0;34m=\u001b[0m\u001b[0mL_wav\u001b[0m\u001b[0;34m,\u001b[0m\u001b[0moptimizer\u001b[0m\u001b[0;34m=\u001b[0m\u001b[0;34m'adam'\u001b[0m\u001b[0;34m)\u001b[0m\u001b[0;34m\u001b[0m\u001b[0;34m\u001b[0m\u001b[0m\n\u001b[0;32m----> 3\u001b[0;31m \u001b[0mencoder\u001b[0m\u001b[0;34m.\u001b[0m\u001b[0mfit\u001b[0m\u001b[0;34m(\u001b[0m\u001b[0mex_slsn\u001b[0m\u001b[0;34m,\u001b[0m\u001b[0mex_sls\u001b[0m\u001b[0;34m,\u001b[0m \u001b[0mverbose\u001b[0m\u001b[0;34m=\u001b[0m\u001b[0;36m2\u001b[0m\u001b[0;34m,\u001b[0m \u001b[0mepochs\u001b[0m\u001b[0;34m=\u001b[0m\u001b[0;36m100\u001b[0m\u001b[0;34m,\u001b[0m\u001b[0mbatch_size\u001b[0m\u001b[0;34m=\u001b[0m\u001b[0;36m10\u001b[0m\u001b[0;34m,\u001b[0m\u001b[0mshuffle\u001b[0m\u001b[0;34m=\u001b[0m\u001b[0;32mTrue\u001b[0m\u001b[0;34m)\u001b[0m\u001b[0;34m\u001b[0m\u001b[0;34m\u001b[0m\u001b[0m\n\u001b[0m\u001b[1;32m      4\u001b[0m \u001b[0my\u001b[0m \u001b[0;34m=\u001b[0m \u001b[0mencoder\u001b[0m\u001b[0;34m(\u001b[0m\u001b[0mex_sls\u001b[0m\u001b[0;34m[\u001b[0m\u001b[0;36m0\u001b[0m\u001b[0;34m]\u001b[0m\u001b[0;34m)\u001b[0m\u001b[0;34m\u001b[0m\u001b[0;34m\u001b[0m\u001b[0m\n\u001b[1;32m      5\u001b[0m \u001b[0;34m\u001b[0m\u001b[0m\n",
      "\u001b[0;32m~/anaconda3/lib/python3.9/site-packages/keras/utils/traceback_utils.py\u001b[0m in \u001b[0;36merror_handler\u001b[0;34m(*args, **kwargs)\u001b[0m\n\u001b[1;32m     65\u001b[0m     \u001b[0;32mexcept\u001b[0m \u001b[0mException\u001b[0m \u001b[0;32mas\u001b[0m \u001b[0me\u001b[0m\u001b[0;34m:\u001b[0m  \u001b[0;31m# pylint: disable=broad-except\u001b[0m\u001b[0;34m\u001b[0m\u001b[0;34m\u001b[0m\u001b[0m\n\u001b[1;32m     66\u001b[0m       \u001b[0mfiltered_tb\u001b[0m \u001b[0;34m=\u001b[0m \u001b[0m_process_traceback_frames\u001b[0m\u001b[0;34m(\u001b[0m\u001b[0me\u001b[0m\u001b[0;34m.\u001b[0m\u001b[0m__traceback__\u001b[0m\u001b[0;34m)\u001b[0m\u001b[0;34m\u001b[0m\u001b[0;34m\u001b[0m\u001b[0m\n\u001b[0;32m---> 67\u001b[0;31m       \u001b[0;32mraise\u001b[0m \u001b[0me\u001b[0m\u001b[0;34m.\u001b[0m\u001b[0mwith_traceback\u001b[0m\u001b[0;34m(\u001b[0m\u001b[0mfiltered_tb\u001b[0m\u001b[0;34m)\u001b[0m \u001b[0;32mfrom\u001b[0m \u001b[0;32mNone\u001b[0m\u001b[0;34m\u001b[0m\u001b[0;34m\u001b[0m\u001b[0m\n\u001b[0m\u001b[1;32m     68\u001b[0m     \u001b[0;32mfinally\u001b[0m\u001b[0;34m:\u001b[0m\u001b[0;34m\u001b[0m\u001b[0;34m\u001b[0m\u001b[0m\n\u001b[1;32m     69\u001b[0m       \u001b[0;32mdel\u001b[0m \u001b[0mfiltered_tb\u001b[0m\u001b[0;34m\u001b[0m\u001b[0;34m\u001b[0m\u001b[0m\n",
      "\u001b[0;32m~/anaconda3/lib/python3.9/site-packages/tensorflow/python/framework/func_graph.py\u001b[0m in \u001b[0;36mautograph_handler\u001b[0;34m(*args, **kwargs)\u001b[0m\n\u001b[1;32m   1145\u001b[0m           \u001b[0;32mexcept\u001b[0m \u001b[0mException\u001b[0m \u001b[0;32mas\u001b[0m \u001b[0me\u001b[0m\u001b[0;34m:\u001b[0m  \u001b[0;31m# pylint:disable=broad-except\u001b[0m\u001b[0;34m\u001b[0m\u001b[0;34m\u001b[0m\u001b[0m\n\u001b[1;32m   1146\u001b[0m             \u001b[0;32mif\u001b[0m \u001b[0mhasattr\u001b[0m\u001b[0;34m(\u001b[0m\u001b[0me\u001b[0m\u001b[0;34m,\u001b[0m \u001b[0;34m\"ag_error_metadata\"\u001b[0m\u001b[0;34m)\u001b[0m\u001b[0;34m:\u001b[0m\u001b[0;34m\u001b[0m\u001b[0;34m\u001b[0m\u001b[0m\n\u001b[0;32m-> 1147\u001b[0;31m               \u001b[0;32mraise\u001b[0m \u001b[0me\u001b[0m\u001b[0;34m.\u001b[0m\u001b[0mag_error_metadata\u001b[0m\u001b[0;34m.\u001b[0m\u001b[0mto_exception\u001b[0m\u001b[0;34m(\u001b[0m\u001b[0me\u001b[0m\u001b[0;34m)\u001b[0m\u001b[0;34m\u001b[0m\u001b[0;34m\u001b[0m\u001b[0m\n\u001b[0m\u001b[1;32m   1148\u001b[0m             \u001b[0;32melse\u001b[0m\u001b[0;34m:\u001b[0m\u001b[0;34m\u001b[0m\u001b[0;34m\u001b[0m\u001b[0m\n\u001b[1;32m   1149\u001b[0m               \u001b[0;32mraise\u001b[0m\u001b[0;34m\u001b[0m\u001b[0;34m\u001b[0m\u001b[0m\n",
      "\u001b[0;31mValueError\u001b[0m: in user code:\n\n    File \"/home/mbuisson/anaconda3/lib/python3.9/site-packages/keras/engine/training.py\", line 1021, in train_function  *\n        return step_function(self, iterator)\n    File \"/home/mbuisson/anaconda3/lib/python3.9/site-packages/keras/engine/training.py\", line 1010, in step_function  **\n        outputs = model.distribute_strategy.run(run_step, args=(data,))\n    File \"/home/mbuisson/anaconda3/lib/python3.9/site-packages/keras/engine/training.py\", line 1000, in run_step  **\n        outputs = model.train_step(data)\n    File \"/home/mbuisson/anaconda3/lib/python3.9/site-packages/keras/engine/training.py\", line 859, in train_step\n        y_pred = self(x, training=True)\n    File \"/home/mbuisson/anaconda3/lib/python3.9/site-packages/keras/utils/traceback_utils.py\", line 67, in error_handler\n        raise e.with_traceback(filtered_tb) from None\n\n    ValueError: Exception encountered when calling layer \"encoder_tru__net_44\" (type Encoder_TRU_Net).\n    \n    in user code:\n    \n        File \"/tmp/ipykernel_3740/118062852.py\", line 47, in call  *\n            x = self.cnn_1d_block2(x)\n        File \"/home/mbuisson/anaconda3/lib/python3.9/site-packages/keras/utils/traceback_utils.py\", line 67, in error_handler  **\n            raise e.with_traceback(filtered_tb) from None\n    \n        ValueError: Exception encountered when calling layer \"depthwise_separable_conv1d_220\" (type DepthwiseSeparableConv1d).\n        \n        in user code:\n        \n            File \"/tmp/ipykernel_3740/2421589345.py\", line 29, in call  *\n                y = self.conv1d_dpwise(x)\n            File \"/home/mbuisson/anaconda3/lib/python3.9/site-packages/keras/utils/traceback_utils.py\", line 67, in error_handler  **\n                raise e.with_traceback(filtered_tb) from None\n            File \"/home/mbuisson/anaconda3/lib/python3.9/site-packages/keras/layers/convolutional.py\", line 2406, in build\n                raise ValueError('Inputs to `DepthwiseConv` should have '\n        \n            ValueError: Inputs to `DepthwiseConv` should have rank 3. Received input_shape=(None, 686, 129, 64).\n        \n        \n        Call arguments received:\n          • x=tf.Tensor(shape=(None, 686, 129, 64), dtype=float32)\n    \n    \n    Call arguments received:\n      • x=tf.Tensor(shape=(None, 88200), dtype=float32)\n"
     ]
    }
   ],
   "source": [
    "\n",
    "encoder = Encoder_TRU_Net()\n",
    "encoder.compile(loss=L_wav,optimizer='adam')\n",
    "#encoder.fit(ex_slsn,ex_sls, verbose=2, epochs=100,batch_size=10,shuffle=True)\n",
    "y = encoder(ex_sls[0])\n",
    "\n",
    "print(np.shape(y))"
   ]
  },
  {
   "cell_type": "markdown",
   "metadata": {},
   "source": [
    "## Tentative avec stft hors encoder"
   ]
  },
  {
   "cell_type": "code",
   "execution_count": null,
   "metadata": {},
   "outputs": [],
   "source": [
    "class Encoder_TRU_Net(tf.keras.Model):\n",
    "\n",
    "    def __init__(self, channels_in):\n",
    "\n",
    "\n",
    "        super().__init__()\n",
    "\n",
    "        \n",
    "\n",
    "\n",
    "\n",
    "        self.cnn_1d_block1 = FirstBlock_DSConv1d(channels_in,64,5,2)\n",
    "        self.cnn_1d_block2 = DepthwiseSeparableConv1d(64,128,3,1)\n",
    "        self.cnn_1d_block3 = DepthwiseSeparableConv1d(128,128,5,2)\n",
    "        self.cnn_1d_block4 = DepthwiseSeparableConv1d(128,128,3,1)\n",
    "        self.cnn_1d_block5 = DepthwiseSeparableConv1d(128,128,5,2)\n",
    "        self.cnn_1d_block6 = DepthwiseSeparableConv1d(128,128,3,2)\n",
    "        \n",
    "        self.faux_layer = layers.Conv1D(257,17)\n",
    "\n",
    "        self.norm = tf.keras.layers.BatchNormalization()\n",
    "\n",
    "\n",
    "    def call (self, x):\n",
    "\n",
    "        print(np.shape(x))\n",
    "        \n",
    "        x = self.cnn_1d_block1(x)\n",
    "        print(np.shape(x))\n",
    "        x = self.cnn_1d_block2(x)\n",
    "        print(np.shape(x))\n",
    "        x = self.cnn_1d_block3(x)\n",
    "        print(np.shape(x))\n",
    "        x = self.cnn_1d_block4(x)\n",
    "        print(np.shape(x))\n",
    "        x = self.cnn_1d_block5(x)\n",
    "        print(np.shape(x))\n",
    "        x = self.cnn_1d_block6(x)\n",
    "        print(np.shape(x))\n",
    "        x = self.faux_layer(x)\n",
    "        print(np.shape(x))\n",
    "        x = tf.transpose(x,[1,0,2])\n",
    "        print(np.shape(x))\n",
    "        out = x[0]\n",
    "\n",
    "\n",
    "        \n",
    "        return out"
   ]
  },
  {
   "cell_type": "code",
   "execution_count": null,
   "metadata": {},
   "outputs": [
    {
     "name": "stdout",
     "output_type": "stream",
     "text": [
      "(686, 256, 2)\n",
      "(686, 128, 64)\n",
      "(686, 128, 128)\n",
      "(686, 64, 128)\n",
      "(686, 64, 128)\n",
      "(686, 32, 128)\n",
      "(686, 16, 128)\n",
      "(686, 0, 257)\n",
      "(0, 686, 257)\n"
     ]
    },
    {
     "name": "stderr",
     "output_type": "stream",
     "text": [
      "2022-04-22 13:39:56.446256: W tensorflow/core/framework/op_kernel.cc:1745] OP_REQUIRES failed at strided_slice_op.cc:108 : INVALID_ARGUMENT: slice index 0 of dimension 0 out of bounds.\n"
     ]
    },
    {
     "ename": "InvalidArgumentError",
     "evalue": "Exception encountered when calling layer \"encoder_tru__net_4\" (type Encoder_TRU_Net).\n\nslice index 0 of dimension 0 out of bounds. [Op:StridedSlice] name: encoder_tru__net_4/strided_slice/\n\nCall arguments received:\n  • x=tf.Tensor(shape=(686, 256, 2), dtype=float32)",
     "output_type": "error",
     "traceback": [
      "\u001b[0;31m---------------------------------------------------------------------------\u001b[0m",
      "\u001b[0;31mInvalidArgumentError\u001b[0m                      Traceback (most recent call last)",
      "\u001b[0;32m/tmp/ipykernel_5966/179404187.py\u001b[0m in \u001b[0;36m<module>\u001b[0;34m\u001b[0m\n\u001b[1;32m      3\u001b[0m \u001b[0mx\u001b[0m \u001b[0;34m=\u001b[0m \u001b[0mtf\u001b[0m\u001b[0;34m.\u001b[0m\u001b[0mconstant\u001b[0m\u001b[0;34m(\u001b[0m\u001b[0mnp\u001b[0m\u001b[0;34m.\u001b[0m\u001b[0mrandom\u001b[0m\u001b[0;34m.\u001b[0m\u001b[0mrand\u001b[0m\u001b[0;34m(\u001b[0m\u001b[0;36m686\u001b[0m\u001b[0;34m,\u001b[0m\u001b[0;36m256\u001b[0m\u001b[0;34m,\u001b[0m\u001b[0;36m2\u001b[0m\u001b[0;34m)\u001b[0m\u001b[0;34m)\u001b[0m\u001b[0;34m\u001b[0m\u001b[0;34m\u001b[0m\u001b[0m\n\u001b[1;32m      4\u001b[0m \u001b[0;34m\u001b[0m\u001b[0m\n\u001b[0;32m----> 5\u001b[0;31m \u001b[0my\u001b[0m \u001b[0;34m=\u001b[0m \u001b[0mmodel\u001b[0m\u001b[0;34m(\u001b[0m\u001b[0mx\u001b[0m\u001b[0;34m)\u001b[0m\u001b[0;34m\u001b[0m\u001b[0;34m\u001b[0m\u001b[0m\n\u001b[0m\u001b[1;32m      6\u001b[0m \u001b[0;34m\u001b[0m\u001b[0m\n\u001b[1;32m      7\u001b[0m \u001b[0mnp\u001b[0m\u001b[0;34m.\u001b[0m\u001b[0mshape\u001b[0m\u001b[0;34m(\u001b[0m\u001b[0my\u001b[0m\u001b[0;34m)\u001b[0m\u001b[0;34m\u001b[0m\u001b[0;34m\u001b[0m\u001b[0m\n",
      "\u001b[0;32m~/anaconda3/lib/python3.9/site-packages/keras/utils/traceback_utils.py\u001b[0m in \u001b[0;36merror_handler\u001b[0;34m(*args, **kwargs)\u001b[0m\n\u001b[1;32m     65\u001b[0m     \u001b[0;32mexcept\u001b[0m \u001b[0mException\u001b[0m \u001b[0;32mas\u001b[0m \u001b[0me\u001b[0m\u001b[0;34m:\u001b[0m  \u001b[0;31m# pylint: disable=broad-except\u001b[0m\u001b[0;34m\u001b[0m\u001b[0;34m\u001b[0m\u001b[0m\n\u001b[1;32m     66\u001b[0m       \u001b[0mfiltered_tb\u001b[0m \u001b[0;34m=\u001b[0m \u001b[0m_process_traceback_frames\u001b[0m\u001b[0;34m(\u001b[0m\u001b[0me\u001b[0m\u001b[0;34m.\u001b[0m\u001b[0m__traceback__\u001b[0m\u001b[0;34m)\u001b[0m\u001b[0;34m\u001b[0m\u001b[0;34m\u001b[0m\u001b[0m\n\u001b[0;32m---> 67\u001b[0;31m       \u001b[0;32mraise\u001b[0m \u001b[0me\u001b[0m\u001b[0;34m.\u001b[0m\u001b[0mwith_traceback\u001b[0m\u001b[0;34m(\u001b[0m\u001b[0mfiltered_tb\u001b[0m\u001b[0;34m)\u001b[0m \u001b[0;32mfrom\u001b[0m \u001b[0;32mNone\u001b[0m\u001b[0;34m\u001b[0m\u001b[0;34m\u001b[0m\u001b[0m\n\u001b[0m\u001b[1;32m     68\u001b[0m     \u001b[0;32mfinally\u001b[0m\u001b[0;34m:\u001b[0m\u001b[0;34m\u001b[0m\u001b[0;34m\u001b[0m\u001b[0m\n\u001b[1;32m     69\u001b[0m       \u001b[0;32mdel\u001b[0m \u001b[0mfiltered_tb\u001b[0m\u001b[0;34m\u001b[0m\u001b[0;34m\u001b[0m\u001b[0m\n",
      "\u001b[0;32m/tmp/ipykernel_5966/3221865231.py\u001b[0m in \u001b[0;36mcall\u001b[0;34m(self, x)\u001b[0m\n\u001b[1;32m     42\u001b[0m         \u001b[0mx\u001b[0m \u001b[0;34m=\u001b[0m \u001b[0mtf\u001b[0m\u001b[0;34m.\u001b[0m\u001b[0mtranspose\u001b[0m\u001b[0;34m(\u001b[0m\u001b[0mx\u001b[0m\u001b[0;34m,\u001b[0m\u001b[0;34m[\u001b[0m\u001b[0;36m1\u001b[0m\u001b[0;34m,\u001b[0m\u001b[0;36m0\u001b[0m\u001b[0;34m,\u001b[0m\u001b[0;36m2\u001b[0m\u001b[0;34m]\u001b[0m\u001b[0;34m)\u001b[0m\u001b[0;34m\u001b[0m\u001b[0;34m\u001b[0m\u001b[0m\n\u001b[1;32m     43\u001b[0m         \u001b[0mprint\u001b[0m\u001b[0;34m(\u001b[0m\u001b[0mnp\u001b[0m\u001b[0;34m.\u001b[0m\u001b[0mshape\u001b[0m\u001b[0;34m(\u001b[0m\u001b[0mx\u001b[0m\u001b[0;34m)\u001b[0m\u001b[0;34m)\u001b[0m\u001b[0;34m\u001b[0m\u001b[0;34m\u001b[0m\u001b[0m\n\u001b[0;32m---> 44\u001b[0;31m         \u001b[0mout\u001b[0m \u001b[0;34m=\u001b[0m \u001b[0mx\u001b[0m\u001b[0;34m[\u001b[0m\u001b[0;36m0\u001b[0m\u001b[0;34m]\u001b[0m\u001b[0;34m\u001b[0m\u001b[0;34m\u001b[0m\u001b[0m\n\u001b[0m\u001b[1;32m     45\u001b[0m \u001b[0;34m\u001b[0m\u001b[0m\n\u001b[1;32m     46\u001b[0m \u001b[0;34m\u001b[0m\u001b[0m\n",
      "\u001b[0;31mInvalidArgumentError\u001b[0m: Exception encountered when calling layer \"encoder_tru__net_4\" (type Encoder_TRU_Net).\n\nslice index 0 of dimension 0 out of bounds. [Op:StridedSlice] name: encoder_tru__net_4/strided_slice/\n\nCall arguments received:\n  • x=tf.Tensor(shape=(686, 256, 2), dtype=float32)"
     ]
    }
   ],
   "source": [
    "model = Encoder_TRU_Net(2)\n",
    "\n",
    "x = tf.constant(np.random.rand(686,256,2))\n",
    "\n",
    "y = model(x)\n",
    "\n",
    "np.shape(y)"
   ]
  },
  {
   "cell_type": "code",
   "execution_count": 5,
   "metadata": {},
   "outputs": [
    {
     "ename": "NameError",
     "evalue": "name 'stft_c' is not defined",
     "output_type": "error",
     "traceback": [
      "\u001b[0;31m---------------------------------------------------------------------------\u001b[0m",
      "\u001b[0;31mNameError\u001b[0m                                 Traceback (most recent call last)",
      "\u001b[0;32m<ipython-input-5-917a16987236>\u001b[0m in \u001b[0;36m<module>\u001b[0;34m\u001b[0m\n\u001b[0;32m----> 1\u001b[0;31m \u001b[0mphase\u001b[0m \u001b[0;34m=\u001b[0m \u001b[0mtf\u001b[0m\u001b[0;34m.\u001b[0m\u001b[0mmath\u001b[0m\u001b[0;34m.\u001b[0m\u001b[0mangle\u001b[0m\u001b[0;34m(\u001b[0m\u001b[0mstft_c\u001b[0m\u001b[0;34m)\u001b[0m\u001b[0;34m\u001b[0m\u001b[0;34m\u001b[0m\u001b[0m\n\u001b[0m\u001b[1;32m      2\u001b[0m \u001b[0;34m\u001b[0m\u001b[0m\n\u001b[1;32m      3\u001b[0m \u001b[0mprint\u001b[0m\u001b[0;34m(\u001b[0m\u001b[0mnp\u001b[0m\u001b[0;34m.\u001b[0m\u001b[0mshape\u001b[0m\u001b[0;34m(\u001b[0m\u001b[0minp\u001b[0m\u001b[0;34m)\u001b[0m\u001b[0;34m)\u001b[0m\u001b[0;34m\u001b[0m\u001b[0;34m\u001b[0m\u001b[0m\n\u001b[1;32m      4\u001b[0m \u001b[0;34m\u001b[0m\u001b[0m\n\u001b[1;32m      5\u001b[0m \u001b[0mx\u001b[0m \u001b[0;34m=\u001b[0m \u001b[0minp\u001b[0m\u001b[0;34m\u001b[0m\u001b[0;34m\u001b[0m\u001b[0m\n",
      "\u001b[0;31mNameError\u001b[0m: name 'stft_c' is not defined"
     ]
    }
   ],
   "source": [
    "phase = tf.math.angle(stft_c)\n",
    "\n",
    "print(np.shape(inp))\n",
    "\n",
    "x = inp\n",
    "\n",
    "encoder = Encoder_TRU_Net()\n",
    "encoder.compile(loss=L_spec,optimizer='adam')\n",
    "#encoder.fit(tf.abs(stft_n),tf.abs(stft_c), verbose=1, epochs=6, batch_size=1000,shuffle=True)\n",
    "\n",
    "'''\n",
    "m = tf.cast(out, tf.complex128)\n",
    "t = tf.cast(phase, tf.complex128)\n",
    "p = tf.math.exp(tf.multiply(tf.constant(1j),t))\n",
    "y = tf.multiply(m,p)\n",
    "print(np.shape(y))\n",
    "y = tf.signal.inverse_stft(y,512,128,window_fn=tf.signal.hann_window)\n",
    "'''"
   ]
  },
  {
   "cell_type": "code",
   "execution_count": 6,
   "metadata": {},
   "outputs": [
    {
     "ename": "NameError",
     "evalue": "name 'slsn' is not defined",
     "output_type": "error",
     "traceback": [
      "\u001b[0;31m---------------------------------------------------------------------------\u001b[0m",
      "\u001b[0;31mNameError\u001b[0m                                 Traceback (most recent call last)",
      "\u001b[0;32m<ipython-input-6-b1f11512b523>\u001b[0m in \u001b[0;36m<module>\u001b[0;34m\u001b[0m\n\u001b[0;32m----> 1\u001b[0;31m \u001b[0mstft_n_t\u001b[0m \u001b[0;34m=\u001b[0m \u001b[0mtf\u001b[0m\u001b[0;34m.\u001b[0m\u001b[0msignal\u001b[0m\u001b[0;34m.\u001b[0m\u001b[0mstft\u001b[0m\u001b[0;34m(\u001b[0m\u001b[0mslsn\u001b[0m\u001b[0;34m,\u001b[0m\u001b[0mframe_length\u001b[0m\u001b[0;34m=\u001b[0m\u001b[0;36m512\u001b[0m\u001b[0;34m,\u001b[0m\u001b[0mframe_step\u001b[0m\u001b[0;34m=\u001b[0m\u001b[0;36m128\u001b[0m\u001b[0;34m,\u001b[0m\u001b[0mwindow_fn\u001b[0m\u001b[0;34m=\u001b[0m\u001b[0mtf\u001b[0m\u001b[0;34m.\u001b[0m\u001b[0msignal\u001b[0m\u001b[0;34m.\u001b[0m\u001b[0mhann_window\u001b[0m\u001b[0;34m)\u001b[0m\u001b[0;34m\u001b[0m\u001b[0;34m\u001b[0m\u001b[0m\n\u001b[0m\u001b[1;32m      2\u001b[0m \u001b[0mphase\u001b[0m \u001b[0;34m=\u001b[0m \u001b[0mtf\u001b[0m\u001b[0;34m.\u001b[0m\u001b[0mmath\u001b[0m\u001b[0;34m.\u001b[0m\u001b[0mangle\u001b[0m\u001b[0;34m(\u001b[0m\u001b[0mtf\u001b[0m\u001b[0;34m.\u001b[0m\u001b[0msignal\u001b[0m\u001b[0;34m.\u001b[0m\u001b[0mstft\u001b[0m\u001b[0;34m(\u001b[0m\u001b[0msls\u001b[0m\u001b[0;34m,\u001b[0m\u001b[0mframe_length\u001b[0m\u001b[0;34m=\u001b[0m\u001b[0;36m512\u001b[0m\u001b[0;34m,\u001b[0m\u001b[0mframe_step\u001b[0m\u001b[0;34m=\u001b[0m\u001b[0;36m128\u001b[0m\u001b[0;34m,\u001b[0m\u001b[0mwindow_fn\u001b[0m\u001b[0;34m=\u001b[0m\u001b[0mtf\u001b[0m\u001b[0;34m.\u001b[0m\u001b[0msignal\u001b[0m\u001b[0;34m.\u001b[0m\u001b[0mhann_window\u001b[0m\u001b[0;34m)\u001b[0m\u001b[0;34m)\u001b[0m\u001b[0;34m\u001b[0m\u001b[0;34m\u001b[0m\u001b[0m\n\u001b[1;32m      3\u001b[0m \u001b[0mout\u001b[0m \u001b[0;34m=\u001b[0m \u001b[0mencoder\u001b[0m\u001b[0;34m(\u001b[0m\u001b[0mtf\u001b[0m\u001b[0;34m.\u001b[0m\u001b[0mabs\u001b[0m\u001b[0;34m(\u001b[0m\u001b[0mstft_n_t\u001b[0m\u001b[0;34m)\u001b[0m\u001b[0;34m)\u001b[0m\u001b[0;34m\u001b[0m\u001b[0;34m\u001b[0m\u001b[0m\n\u001b[1;32m      4\u001b[0m \u001b[0;34m\u001b[0m\u001b[0m\n\u001b[1;32m      5\u001b[0m \u001b[0mm\u001b[0m \u001b[0;34m=\u001b[0m \u001b[0mtf\u001b[0m\u001b[0;34m.\u001b[0m\u001b[0mcast\u001b[0m\u001b[0;34m(\u001b[0m\u001b[0mout\u001b[0m\u001b[0;34m,\u001b[0m \u001b[0mtf\u001b[0m\u001b[0;34m.\u001b[0m\u001b[0mcomplex128\u001b[0m\u001b[0;34m)\u001b[0m\u001b[0;34m\u001b[0m\u001b[0;34m\u001b[0m\u001b[0m\n",
      "\u001b[0;31mNameError\u001b[0m: name 'slsn' is not defined"
     ]
    }
   ],
   "source": [
    "stft_n_t = tf.signal.stft(slsn,frame_length=512,frame_step=128,window_fn=tf.signal.hann_window)\n",
    "phase = tf.math.angle(tf.signal.stft(sls,frame_length=512,frame_step=128,window_fn=tf.signal.hann_window))\n",
    "out = encoder(tf.abs(stft_n_t))\n",
    "\n",
    "m = tf.cast(out, tf.complex128)\n",
    "t = tf.cast(phase, tf.complex128)\n",
    "p = tf.math.exp(tf.multiply(tf.constant(1j),t))\n",
    "y = tf.multiply(m,p)\n",
    "print(np.shape(y))\n",
    "#y = tf.signal.inverse_stft(y,512,128,window_fn=tf.signal.hann_window)"
   ]
  },
  {
   "cell_type": "code",
   "execution_count": 7,
   "metadata": {},
   "outputs": [
    {
     "ename": "NameError",
     "evalue": "name 'y' is not defined",
     "output_type": "error",
     "traceback": [
      "\u001b[0;31m---------------------------------------------------------------------------\u001b[0m",
      "\u001b[0;31mNameError\u001b[0m                                 Traceback (most recent call last)",
      "\u001b[0;32m<ipython-input-7-8ff547b1b6e1>\u001b[0m in \u001b[0;36m<module>\u001b[0;34m\u001b[0m\n\u001b[1;32m      7\u001b[0m \u001b[0;34m\u001b[0m\u001b[0m\n\u001b[1;32m      8\u001b[0m \u001b[0;34m\u001b[0m\u001b[0m\n\u001b[0;32m----> 9\u001b[0;31m \u001b[0mplt\u001b[0m\u001b[0;34m.\u001b[0m\u001b[0mpcolormesh\u001b[0m\u001b[0;34m(\u001b[0m\u001b[0mt\u001b[0m\u001b[0;34m,\u001b[0m \u001b[0mf\u001b[0m\u001b[0;34m,\u001b[0m \u001b[0mnp\u001b[0m\u001b[0;34m.\u001b[0m\u001b[0mtranspose\u001b[0m\u001b[0;34m(\u001b[0m\u001b[0mnp\u001b[0m\u001b[0;34m.\u001b[0m\u001b[0mpower\u001b[0m\u001b[0;34m(\u001b[0m\u001b[0mnp\u001b[0m\u001b[0;34m.\u001b[0m\u001b[0mabs\u001b[0m\u001b[0;34m(\u001b[0m\u001b[0my\u001b[0m\u001b[0;34m)\u001b[0m\u001b[0;34m,\u001b[0m\u001b[0;36m0.1\u001b[0m\u001b[0;34m)\u001b[0m\u001b[0;34m)\u001b[0m\u001b[0;34m,\u001b[0m \u001b[0mshading\u001b[0m\u001b[0;34m=\u001b[0m\u001b[0;34m'gouraud'\u001b[0m\u001b[0;34m)\u001b[0m\u001b[0;34m\u001b[0m\u001b[0;34m\u001b[0m\u001b[0m\n\u001b[0m\u001b[1;32m     10\u001b[0m \u001b[0;34m\u001b[0m\u001b[0m\n\u001b[1;32m     11\u001b[0m \u001b[0mplt\u001b[0m\u001b[0;34m.\u001b[0m\u001b[0mtitle\u001b[0m\u001b[0;34m(\u001b[0m\u001b[0;34m'STFT Magnitude'\u001b[0m\u001b[0;34m)\u001b[0m\u001b[0;34m\u001b[0m\u001b[0;34m\u001b[0m\u001b[0m\n",
      "\u001b[0;31mNameError\u001b[0m: name 'y' is not defined"
     ]
    }
   ],
   "source": [
    "from scipy import signal\n",
    "\n",
    "import matplotlib.pyplot as plt\n",
    "f = np.arange(257)\n",
    "t = np.arange(59532)\n",
    "\n",
    "\n",
    "\n",
    "plt.pcolormesh(t, f, np.transpose(np.power(np.abs(y),0.1)), shading='gouraud')\n",
    "\n",
    "plt.title('STFT Magnitude')\n",
    "\n",
    "plt.ylabel('Frequency [Hz]')\n",
    "\n",
    "plt.xlabel('Time [sec]')\n",
    "plt.show()\n"
   ]
  },
  {
   "cell_type": "markdown",
   "metadata": {},
   "source": [
    "# 4. Construction du FGRU layer"
   ]
  },
  {
   "cell_type": "code",
   "execution_count": 27,
   "metadata": {},
   "outputs": [],
   "source": [
    "class FGRU_Block(tf.keras.Model):\n",
    "\n",
    "    def __init__(self,out_channels):\n",
    "\n",
    "\n",
    "        super().__init__()\n",
    "\n",
    "        gru = layers.GRU(64,return_sequences=True)\n",
    "\n",
    "        self.gru_layer = layers.Bidirectional(gru,merge_mode=\"sum\")\n",
    "        \n",
    "        self.norm = tf.keras.layers.BatchNormalization()\n",
    "        self.relu = layers.Activation(activations.relu)\n",
    "\n",
    "        self.conv1d_ptwise = layers.Conv1D(out_channels,1)\n",
    "    \n",
    "\n",
    "  \n",
    "\n",
    "\n",
    "    def call (self, x):\n",
    "        \n",
    "        #print(np.shape(x))\n",
    "\n",
    "\n",
    "        output  = self.gru_layer(x)\n",
    "        #print(np.shape(output))\n",
    "        #out=tf.transpose(output, perm=[0,2,1])\n",
    "        output = self.conv1d_ptwise(output)\n",
    "        \n",
    "        #print(np.shape(output))\n",
    "        output = self.norm(self.relu(output))\n",
    "\n",
    "        return output"
   ]
  },
  {
   "cell_type": "code",
   "execution_count": 22,
   "metadata": {},
   "outputs": [
    {
     "name": "stdout",
     "output_type": "stream",
     "text": [
      "(686, 16, 128)\n",
      "(686, 16, 64)\n",
      "(686, 16, 64)\n"
     ]
    },
    {
     "data": {
      "text/plain": [
       "TensorShape([686, 16, 64])"
      ]
     },
     "execution_count": 22,
     "metadata": {},
     "output_type": "execute_result"
    }
   ],
   "source": [
    "model = GRU_Block(64)\n",
    "\n",
    "\n",
    "\n",
    "x = tf.constant(np.random.rand(686,16,128))\n",
    "\n",
    "#x=tf.transpose(x, perm=[0,2,1])\n",
    "y = model(x)\n",
    "\n",
    "np.shape(y)"
   ]
  },
  {
   "cell_type": "markdown",
   "metadata": {},
   "source": [
    "# 5. TGRU Block"
   ]
  },
  {
   "cell_type": "code",
   "execution_count": 44,
   "metadata": {},
   "outputs": [],
   "source": [
    "class TGRU_Block(tf.keras.Model):\n",
    "\n",
    "    def __init__(self,out_channels):\n",
    "\n",
    "\n",
    "        super().__init__()\n",
    "\n",
    "        self.gru = layers.GRU(128,return_sequences=True)\n",
    "\n",
    "       \n",
    "        \n",
    "        self.norm = tf.keras.layers.BatchNormalization()\n",
    "        self.relu = layers.Activation(activations.relu)\n",
    "\n",
    "        self.conv1d_ptwise = layers.Conv1D(out_channels,1)\n",
    "    \n",
    "\n",
    "  \n",
    "\n",
    "\n",
    "    def call (self, x):\n",
    "        \n",
    "        #print(np.shape(x))\n",
    "\n",
    "\n",
    "        output  = self.gru(x)\n",
    "        \n",
    "       # print(np.shape(output))\n",
    "        \n",
    "        output = self.conv1d_ptwise(output)\n",
    "        \n",
    "\n",
    "       # print(np.shape(output))\n",
    "        output = self.norm(self.relu(output))\n",
    "\n",
    "        return output"
   ]
  },
  {
   "cell_type": "code",
   "execution_count": 45,
   "metadata": {},
   "outputs": [
    {
     "name": "stdout",
     "output_type": "stream",
     "text": [
      "(16, 686, 64)\n",
      "(16, 686, 128)\n",
      "(16, 686, 64)\n"
     ]
    },
    {
     "data": {
      "text/plain": [
       "TensorShape([16, 686, 64])"
      ]
     },
     "execution_count": 45,
     "metadata": {},
     "output_type": "execute_result"
    }
   ],
   "source": [
    "model = TRU_Block(64)\n",
    "\n",
    "x = tf.constant(np.random.rand(686,16,64))\n",
    "\n",
    "x=tf.transpose(x, perm=[1,0,2])\n",
    "\n",
    "y = model(x)\n",
    "\n",
    "np.shape(y)"
   ]
  },
  {
   "cell_type": "markdown",
   "metadata": {},
   "source": [
    "# 6. Decoder implémentation"
   ]
  },
  {
   "cell_type": "code",
   "execution_count": 49,
   "metadata": {},
   "outputs": [],
   "source": [
    "class TrCNN_Block(tf.keras.Model):\n",
    "\n",
    "    def __init__(self,out_channels, kernel, stride):\n",
    "\n",
    "\n",
    "        super().__init__()\n",
    "\n",
    "        self.conv1d_ptwise = layers.Conv1D(64,1)\n",
    "        \n",
    "        self.norm1 = tf.keras.layers.BatchNormalization()\n",
    "        self.relu1 = layers.Activation(activations.relu)\n",
    "\n",
    "        self.TransposeConv = layers.Conv1DTranspose(out_channels,kernel, stride,padding='same')\n",
    "    \n",
    "        self.norm2 = tf.keras.layers.BatchNormalization()\n",
    "        self.relu2 = layers.Activation(activations.relu)\n",
    "  \n",
    "\n",
    "\n",
    "    def call (self, x):\n",
    "        \n",
    "        print(np.shape(x))\n",
    "\n",
    "\n",
    "        output  = self.conv1d_ptwise(x)\n",
    "        \n",
    "        \n",
    "        \n",
    "        output = self.relu1(self.norm1(output))\n",
    "        print(np.shape(output))\n",
    "        output  = self.TransposeConv(output)\n",
    "\n",
    "\n",
    "        print(np.shape(output))\n",
    "        output = self.norm2(self.relu2(output))\n",
    "\n",
    "        return output"
   ]
  },
  {
   "cell_type": "code",
   "execution_count": 50,
   "metadata": {},
   "outputs": [
    {
     "name": "stdout",
     "output_type": "stream",
     "text": [
      "(686, 147, 256)\n",
      "(686, 147, 256)\n",
      "(686, 147, 64)\n",
      "(686, 294, 64)\n"
     ]
    },
    {
     "data": {
      "text/plain": [
       "TensorShape([686, 294, 64])"
      ]
     },
     "execution_count": 50,
     "metadata": {},
     "output_type": "execute_result"
    }
   ],
   "source": [
    "model = TrCNN_Block(64,5,2)\n",
    "\n",
    "x1 = tf.constant(np.random.rand(686,147,128))\n",
    "x2 = tf.constant(np.random.rand(686,147,128))\n",
    "\n",
    "g = tf.concat([x1,x2],axis=2)\n",
    "\n",
    "print(np.shape(g))\n",
    "y = model(g)\n",
    "\n",
    "np.shape(y)"
   ]
  },
  {
   "cell_type": "markdown",
   "metadata": {},
   "source": [
    "# 7. Implémentation architecture totale"
   ]
  },
  {
   "cell_type": "code",
   "execution_count": 57,
   "metadata": {},
   "outputs": [],
   "source": [
    "class TRU_Net(tf.keras.Model):\n",
    "\n",
    "    def __init__(self, channels_in):\n",
    "\n",
    "\n",
    "        super().__init__()\n",
    "\n",
    "        \n",
    "\n",
    "        #Encoder part\n",
    "\n",
    "        self.cnn_1d_block1 = FirstBlock_DSConv1d(channels_in,64,5,2)\n",
    "        self.cnn_1d_block2 = DepthwiseSeparableConv1d(64,128,3,1)\n",
    "        self.cnn_1d_block3 = DepthwiseSeparableConv1d(128,128,5,2)\n",
    "        self.cnn_1d_block4 = DepthwiseSeparableConv1d(128,128,3,1)\n",
    "        self.cnn_1d_block5 = DepthwiseSeparableConv1d(128,128,5,2)\n",
    "        self.cnn_1d_block6 = DepthwiseSeparableConv1d(128,128,3,2)\n",
    "        \n",
    "\n",
    "        #FGRU Layer\n",
    "        self.fgru_layer = FGRU_Block(64)\n",
    "\n",
    "        #TGRU Layer\n",
    "        self.tgru_layer = TGRU_Block(64)\n",
    "\n",
    "        #Decoder part\n",
    "        self.trcnn_1d_block1 = TrCNN_Block(64,3,2)\n",
    "        self.trcnn_1d_block2 = TrCNN_Block(64,5,2)\n",
    "        self.trcnn_1d_block3 = TrCNN_Block(64,3,1)\n",
    "        self.trcnn_1d_block4 = TrCNN_Block(64,5,2)\n",
    "        self.trcnn_1d_block5 = TrCNN_Block(64,3,1)\n",
    "        self.trcnn_1d_block6 = TrCNN_Block(10,5,2)\n",
    "\n",
    "\n",
    "\n",
    "\n",
    "    def call (self, input):\n",
    "\n",
    "        print(np.shape(input))\n",
    "\n",
    "        #Encoder\n",
    "        out1_enc = self.cnn_1d_block1(input)\n",
    "        print(1,np.shape(out1_enc))\n",
    "\n",
    "        out2_enc = self.cnn_1d_block2(out1_enc)\n",
    "        print(2,np.shape(out2_enc))\n",
    "\n",
    "        out3_enc = self.cnn_1d_block3(out2_enc)\n",
    "        print(3,np.shape(out3_enc))\n",
    "\n",
    "        out4_enc = self.cnn_1d_block4(out3_enc)\n",
    "        print(4,np.shape(out4_enc))\n",
    "\n",
    "        out5_enc = self.cnn_1d_block5(out4_enc)\n",
    "        print(5,np.shape(out5_enc))\n",
    "\n",
    "        out6_enc = self.cnn_1d_block6(out5_enc)\n",
    "        print(6,np.shape(out6_enc))\n",
    "\n",
    "\n",
    "        #FGRU Block\n",
    "\n",
    "        out_fgru = self.fgru_layer(out6_enc)\n",
    "        print('fgru',np.shape(out_fgru))\n",
    "\n",
    "        #TGRU Block\n",
    "\n",
    "        out_tgru = self.tgru_layer(out_fgru)\n",
    "        print('tgru',np.shape(out_tgru))\n",
    "\n",
    "        #Decoder\n",
    "\n",
    "        in1_dec = tf.concat([out6_enc,out_tgru],axis=-1)\n",
    "        out1_dec = self.trcnn_1d_block1(in1_dec)\n",
    "        print('1D',np.shape(out1_dec))\n",
    "\n",
    "        in2_dec = tf.concat([out5_enc,out1_dec],axis=-1)\n",
    "        out2_dec = self.trcnn_1d_block2(in2_dec)\n",
    "        print(np.shape(out2_dec))\n",
    "\n",
    "        in3_dec = tf.concat([out4_enc,out2_dec],axis=-1)\n",
    "        out3_dec = self.trcnn_1d_block3(in3_dec)\n",
    "        print(np.shape(out3_dec))\n",
    "\n",
    "        in4_dec = tf.concat([out3_enc,out3_dec],axis=-1)\n",
    "        out4_dec = self.trcnn_1d_block4(in4_dec)\n",
    "        print(np.shape(out4_dec))\n",
    "\n",
    "        in5_dec = tf.concat([out2_enc,out4_dec],axis=-1)\n",
    "        out5_dec = self.trcnn_1d_block5(in5_dec)\n",
    "        print(np.shape(out5_dec))\n",
    "\n",
    "        in6_dec = tf.concat([out1_enc,out5_dec],axis=-1)\n",
    "        out6_dec = self.trcnn_1d_block6(in6_dec)\n",
    "        print(np.shape(out6_dec))\n",
    "\n",
    "\n",
    "        \n",
    "        return out6_dec"
   ]
  },
  {
   "cell_type": "code",
   "execution_count": 58,
   "metadata": {},
   "outputs": [
    {
     "name": "stdout",
     "output_type": "stream",
     "text": [
      "(686, 256, 2)\n",
      "1 (686, 128, 64)\n",
      "2 (686, 128, 128)\n",
      "3 (686, 64, 128)\n",
      "4 (686, 64, 128)\n",
      "5 (686, 32, 128)\n",
      "6 (686, 16, 128)\n",
      "(686, 16, 128)\n",
      "(686, 16, 64)\n",
      "(686, 16, 64)\n",
      "fgru (686, 16, 64)\n",
      "tgru (686, 16, 64)\n",
      "(686, 16, 192)\n",
      "(686, 16, 64)\n",
      "(686, 32, 64)\n",
      "1D (686, 32, 64)\n",
      "(686, 32, 192)\n",
      "(686, 32, 64)\n",
      "(686, 64, 64)\n",
      "(686, 64, 64)\n",
      "(686, 64, 192)\n",
      "(686, 64, 64)\n",
      "(686, 64, 64)\n",
      "(686, 64, 64)\n",
      "(686, 64, 192)\n",
      "(686, 64, 64)\n",
      "(686, 128, 64)\n",
      "(686, 128, 64)\n",
      "(686, 128, 192)\n",
      "(686, 128, 64)\n",
      "(686, 128, 64)\n",
      "(686, 128, 64)\n",
      "(686, 128, 128)\n",
      "(686, 128, 64)\n",
      "(686, 256, 10)\n",
      "(686, 256, 10)\n"
     ]
    },
    {
     "data": {
      "text/plain": [
       "TensorShape([686, 256, 10])"
      ]
     },
     "execution_count": 58,
     "metadata": {},
     "output_type": "execute_result"
    }
   ],
   "source": [
    "model = TRU_Net(2)\n",
    "\n",
    "x = tf.constant(np.random.rand(686,256,2))\n",
    "\n",
    "y = model(x)\n",
    "\n",
    "np.shape(y)"
   ]
  },
  {
   "cell_type": "code",
   "execution_count": null,
   "metadata": {},
   "outputs": [],
   "source": []
  }
 ],
 "metadata": {
  "interpreter": {
   "hash": "199c6c38fd36c609ddf071eb4a3481bfdeb3720cfa5b8fa869d1c748d805f4cd"
  },
  "kernelspec": {
   "display_name": "Python 3.7.6 ('base')",
   "language": "python",
   "name": "python3"
  },
  "language_info": {
   "codemirror_mode": {
    "name": "ipython",
    "version": 3
   },
   "file_extension": ".py",
   "mimetype": "text/x-python",
   "name": "python",
   "nbconvert_exporter": "python",
   "pygments_lexer": "ipython3",
   "version": "3.7.6"
  },
  "orig_nbformat": 4
 },
 "nbformat": 4,
 "nbformat_minor": 2
}
