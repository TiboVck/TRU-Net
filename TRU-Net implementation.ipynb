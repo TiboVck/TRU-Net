{
 "cells": [
  {
   "cell_type": "code",
   "execution_count": 4,
   "metadata": {},
   "outputs": [
    {
     "name": "stdout",
     "output_type": "stream",
     "text": [
      "2.8.0\n"
     ]
    }
   ],
   "source": [
    "import numpy as np\n",
    "import matplotlib.pyplot as plt\n",
    "from scipy import signal\n",
    "\n",
    "import keras\n",
    "import tensorflow as tf\n",
    "\n",
    "from utility import sdr, models\n",
    "\n",
    "print(tf.__version__)"
   ]
  },
  {
   "cell_type": "code",
   "execution_count": 1,
   "metadata": {},
   "outputs": [
    {
     "ename": "NameError",
     "evalue": "name 'nn' is not defined",
     "output_type": "error",
     "traceback": [
      "\u001b[0;31m---------------------------------------------------------------------------\u001b[0m",
      "\u001b[0;31mNameError\u001b[0m                                 Traceback (most recent call last)",
      "\u001b[0;32m<ipython-input-1-29b2872b0235>\u001b[0m in \u001b[0;36m<module>\u001b[0;34m\u001b[0m\n\u001b[0;32m----> 1\u001b[0;31m \u001b[0;32mclass\u001b[0m \u001b[0mTRUNet\u001b[0m\u001b[0;34m(\u001b[0m\u001b[0mnn\u001b[0m\u001b[0;34m.\u001b[0m\u001b[0mModule\u001b[0m\u001b[0;34m)\u001b[0m\u001b[0;34m:\u001b[0m\u001b[0;34m\u001b[0m\u001b[0;34m\u001b[0m\u001b[0m\n\u001b[0m\u001b[1;32m      2\u001b[0m     \u001b[0;32mdef\u001b[0m \u001b[0m__init__\u001b[0m\u001b[0;34m(\u001b[0m\u001b[0mself\u001b[0m\u001b[0;34m)\u001b[0m\u001b[0;34m:\u001b[0m\u001b[0;34m\u001b[0m\u001b[0;34m\u001b[0m\u001b[0m\n\u001b[1;32m      3\u001b[0m         \u001b[0msuper\u001b[0m\u001b[0;34m(\u001b[0m\u001b[0mTRUNet\u001b[0m\u001b[0;34m,\u001b[0m \u001b[0mself\u001b[0m\u001b[0;34m)\u001b[0m\u001b[0;34m.\u001b[0m\u001b[0m__init__\u001b[0m\u001b[0;34m(\u001b[0m\u001b[0;34m)\u001b[0m\u001b[0;34m\u001b[0m\u001b[0;34m\u001b[0m\u001b[0m\n\u001b[1;32m      4\u001b[0m         \u001b[0mself\u001b[0m\u001b[0;34m.\u001b[0m\u001b[0mdown1\u001b[0m \u001b[0;34m=\u001b[0m \u001b[0mStandardConv1d\u001b[0m\u001b[0;34m(\u001b[0m\u001b[0;36m4\u001b[0m\u001b[0;34m,\u001b[0m\u001b[0;36m64\u001b[0m\u001b[0;34m,\u001b[0m\u001b[0;36m5\u001b[0m\u001b[0;34m,\u001b[0m\u001b[0;36m2\u001b[0m\u001b[0;34m)\u001b[0m\u001b[0;34m\u001b[0m\u001b[0;34m\u001b[0m\u001b[0m\n\u001b[1;32m      5\u001b[0m         \u001b[0mself\u001b[0m\u001b[0;34m.\u001b[0m\u001b[0mdown2\u001b[0m \u001b[0;34m=\u001b[0m \u001b[0mDepthwiseSeparableConv1d\u001b[0m\u001b[0;34m(\u001b[0m\u001b[0;36m64\u001b[0m\u001b[0;34m,\u001b[0m \u001b[0;36m128\u001b[0m\u001b[0;34m,\u001b[0m \u001b[0;36m3\u001b[0m\u001b[0;34m,\u001b[0m \u001b[0;36m1\u001b[0m\u001b[0;34m)\u001b[0m\u001b[0;34m\u001b[0m\u001b[0;34m\u001b[0m\u001b[0m\n",
      "\u001b[0;31mNameError\u001b[0m: name 'nn' is not defined"
     ]
    }
   ],
   "source": [
    "class TRUNet(nn.Module):\n",
    "    def __init__(self):\n",
    "        super(TRUNet, self).__init__()\n",
    "        self.down1 = StandardConv1d(4,64,5,2)\n",
    "        self.down2 = DepthwiseSeparableConv1d(64, 128, 3, 1)\n",
    "        self.down3 = DepthwiseSeparableConv1d(128, 128, 5, 2)\n",
    "        self.down4 = DepthwiseSeparableConv1d(128, 128, 3, 1)\n",
    "        self.down5 = DepthwiseSeparableConv1d(128, 128, 5, 2)\n",
    "        self.down6 = DepthwiseSeparableConv1d(128, 128, 3, 2)\n",
    "        self.FGRU = GRUBlock(128, 64, 64, bidirectional=True)\n",
    "        self.TGRU = GRUBlock(64, 128, 64, bidirectional=False)\n",
    "        self.up1 = FirstTrCNN(64, 64, 3, 2)\n",
    "        self.up2 = TrCNN(192, 64, 5, 2)\n",
    "        self.up3 = TrCNN(192, 64, 3, 1)\n",
    "        self.up4 = TrCNN(192, 64, 5, 2)\n",
    "        self.up5 = TrCNN(192, 64, 3, 1)\n",
    "        self.up6 = LastTrCNN(128, 5, 5, 2)\n",
    "  \n",
    "\n",
    "    def forward(self, x):\n",
    "        x1 = self.down1(x)\n",
    "        x2 = self.down2(x1)\n",
    "        x3 = self.down3(x2)\n",
    "        x4 = self.down4(x3)\n",
    "        x5 = self.down5(x4)\n",
    "        x6 = self.down6(x5)\n",
    "        x7 = x6.transpose(1,2)\n",
    "        x8 = self.FGRU(x7)\n",
    "        x9 = x8.transpose(1,2)\n",
    "        x10 = self.TGRU(x9)\n",
    "        x11 = self.up1(x10)\n",
    "        x12 = self.up2(x11,x5)\n",
    "        x13 = self.up3(x12,x4)\n",
    "        x14 = self.up4(x13,x3)\n",
    "        x15 = self.up5(x14,x2)\n",
    "        x16 = self.up6(x15,x1)\n",
    "        return x16\n"
   ]
  },
  {
   "cell_type": "code",
   "execution_count": null,
   "metadata": {},
   "outputs": [],
   "source": [
    "TRU = TRUNet()\n",
    "total_params = sum(p.numel() for p in TRU.parameters())\n",
    "print(\"total params:\",total_params)\n",
    "x = torch.randn(1, 4, 257)\n",
    "print(\"input_shape:\",x.shape)\n",
    "y = TRU(x)\n",
    "print(\"output_shape:\",y.shape)"
   ]
  }
 ],
 "metadata": {
  "interpreter": {
   "hash": "199c6c38fd36c609ddf071eb4a3481bfdeb3720cfa5b8fa869d1c748d805f4cd"
  },
  "kernelspec": {
   "display_name": "Python 3.7.6 ('base')",
   "language": "python",
   "name": "python3"
  },
  "language_info": {
   "codemirror_mode": {
    "name": "ipython",
    "version": 3
   },
   "file_extension": ".py",
   "mimetype": "text/x-python",
   "name": "python",
   "nbconvert_exporter": "python",
   "pygments_lexer": "ipython3",
   "version": "3.7.6"
  },
  "orig_nbformat": 4
 },
 "nbformat": 4,
 "nbformat_minor": 2
}
